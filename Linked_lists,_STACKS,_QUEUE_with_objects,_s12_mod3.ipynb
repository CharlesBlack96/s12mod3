{
  "nbformat": 4,
  "nbformat_minor": 0,
  "metadata": {
    "colab": {
      "provenance": [],
      "authorship_tag": "ABX9TyPiRjK7xSgW5EO5abRpRDXN",
      "include_colab_link": true
    },
    "kernelspec": {
      "name": "python3",
      "display_name": "Python 3"
    },
    "language_info": {
      "name": "python"
    }
  },
  "cells": [
    {
      "cell_type": "markdown",
      "metadata": {
        "id": "view-in-github",
        "colab_type": "text"
      },
      "source": [
        "<a href=\"https://colab.research.google.com/github/CharlesBlack96/s12mod3/blob/main/Linked_lists%2C_STACKS%2C_QUEUE_with_objects%2C_s12_mod3.ipynb\" target=\"_parent\"><img src=\"https://colab.research.google.com/assets/colab-badge.svg\" alt=\"Open In Colab\"/></a>"
      ]
    },
    {
      "cell_type": "code",
      "execution_count": null,
      "metadata": {
        "id": "2SRSQ_omvHFV"
      },
      "outputs": [],
      "source": []
    },
    {
      "cell_type": "markdown",
      "source": [
        "Data structure of connected nodes\n",
        "\n",
        "\n",
        "\n",
        "each node has data or value and reference to next node (next point)...last node has reference to null\n",
        "\n",
        "There is a head and tail..first and last node in the data structure\n",
        "\n",
        "\n",
        "You can insert and remove nodes without shifting like arrays\n",
        "- yet you can not access randomly you have to start at begining of list and walk down to find specific node\n",
        "\n"
      ],
      "metadata": {
        "id": "JPX8f2swTJKq"
      }
    },
    {
      "cell_type": "code",
      "source": [
        "#example)\n",
        "class listnode:\n",
        "  def __init__(self, x):\n",
        "    self.value = x\n",
        "    self.next = None\n",
        " \n",
        "#this code sets up the structure of linked lists"
      ],
      "metadata": {
        "id": "OmGGEAfWUSfz"
      },
      "execution_count": 1,
      "outputs": []
    },
    {
      "cell_type": "code",
      "source": [
        "#classes and objects\n",
        "\n",
        "#classes are the blueprint in which objects can be made from\n",
        "\n",
        "class Animal:\n",
        "  def __init__(self):\n",
        "    self.leg_count = 4\n",
        "\n",
        "c = Animal() #instantiates or creates new object - each instance has its own properties\n",
        "d = Animal()\n",
        "d.leg_count = 8\n",
        "\n",
        "print(c.leg_count)\n",
        "print(d.leg_count)"
      ],
      "metadata": {
        "colab": {
          "base_uri": "https://localhost:8080/"
        },
        "id": "W6ZdGtk1U_kS",
        "outputId": "95ef37e3-97a7-4da5-e985-c6f86921cd62"
      },
      "execution_count": 3,
      "outputs": [
        {
          "output_type": "stream",
          "name": "stdout",
          "text": [
            "4\n",
            "8\n"
          ]
        }
      ]
    },
    {
      "cell_type": "code",
      "source": [
        "#we can also add params to the class so we can pass them into the instances instead of declaring self.leg_count for each instance\n",
        "#we only have to account for params after self, self is automatically \n",
        "\n",
        "class Animal:\n",
        "  def __init__(self, leg_count):\n",
        "    self.leg_count = leg_count\n",
        "#you can add special method repr (representation) that will return a string displays the CONSTRUCTOR c that we try to print below\n",
        "  def __repr__(self):\n",
        "    return f\"Animal{repr(self.leg_count)}\"\n",
        "#you can also add a string method that allows you to be more flexible with what is displayed instead of being stuck with just \n",
        "#the constructor only -- it will override the repr function if used \n",
        "  def __str__(self):\n",
        "    return f\"An Animal with {self.leg_count} legs\"\n",
        "c = Animal(4) #instantiates or creates new object - each instance has its own properties\n",
        "d = Animal(8)\n",
        "\n",
        "print(c)\n",
        "print(d) # - now when i print c or d i will see Animal(4) and Animal(8) instead of a wierd object message"
      ],
      "metadata": {
        "colab": {
          "base_uri": "https://localhost:8080/"
        },
        "id": "m2BTs8suV1SZ",
        "outputId": "5395e93f-c0d4-4b25-9723-6b94a0ac4639"
      },
      "execution_count": 3,
      "outputs": [
        {
          "output_type": "stream",
          "name": "stdout",
          "text": [
            "An Animal with 4 legs\n",
            "An Animal with 8 legs\n"
          ]
        }
      ]
    },
    {
      "cell_type": "code",
      "source": [
        "#LINKED LISTS CLASSES AND OBJECTS\n",
        "\n",
        "class ListNode:\n",
        "  def __init__(self,v):\n",
        "    self.value = v\n",
        "    self.next = None #this is simply a variable assignmed to the object None python creates\n",
        "#place a __str__ method so we can print out something useful\n",
        "  def __repr__(self):\n",
        "    return f\"[ListNode {repr(self.value)}] --> {repr(self.next)}\"\n",
        "\n",
        "a = ListNode(1)\n",
        "b = ListNode(2)\n",
        "c = ListNode(3)\n",
        "\n",
        "a.next = b\n",
        "b.next = c\n",
        "c.next = None\n",
        "\n",
        "print(a)\n",
        "#from just a we now have a variable that represents ListNode 1 and its connection to ListNode 2 and so on\n",
        "# creating the chain of Nodes that makes up out LinkedLists\n",
        "\n",
        "\n",
        "#placed in brackets just for visibility to create the \"boxes\""
      ],
      "metadata": {
        "colab": {
          "base_uri": "https://localhost:8080/"
        },
        "id": "xIkkoPNPXEtz",
        "outputId": "7c8d2505-b31f-4cd9-e893-ba32485ae774"
      },
      "execution_count": 12,
      "outputs": [
        {
          "output_type": "stream",
          "name": "stdout",
          "text": [
            "[ListNode 1] --> [ListNode 2] --> [ListNode 3] --> None\n"
          ]
        }
      ]
    },
    {
      "cell_type": "code",
      "source": [
        "#=============================================================================================================================================\n",
        "#=============================================================================================================================================\n",
        "#=============================================================================================================================================\n",
        "#=============================================================================================================================================\n",
        "#=============================================================================================================================================\n",
        "#=============================================================================================================================================\n",
        "#=============================================================================================================================================\n",
        "#============================================================================================================================================="
      ],
      "metadata": {
        "id": "sprLllF9yG7z"
      },
      "execution_count": null,
      "outputs": []
    },
    {
      "cell_type": "markdown",
      "source": [
        "Linked Lists GCA Problem:\n",
        "\n",
        "Given three values, return a new linked list containing those values.\n",
        "You have to wrap the values into ListNode() objects.\n",
        "\n",
        "new_node = ListNode(n)\n",
        "\n",
        "1) read 3x\n",
        "2) understand and write down\n",
        "3) make and write down a plan\n",
        "4) translate plan to code\n",
        "5) debug\n",
        "\n"
      ],
      "metadata": {
        "id": "DvGVZ15d0YVa"
      }
    },
    {
      "cell_type": "code",
      "source": [
        "def solution(a,b,c):\n",
        "  #make new listNodes for a, b, and c \n",
        "  a_node = ListNode(a)\n",
        "  b_node = ListNode(b)\n",
        "  c_node = ListNode(c)\n",
        "\n",
        "  #hook up the next pointers for a and b\n",
        "  a_node.next = b_node\n",
        "  b_node.next = c_node\n",
        "  #return not a but the node that contains a's value\n",
        "  return a_node\n",
        "\n",
        "  #not flaxible and not DRY code\n",
        "  #THIS CODE ABOVE WORKS FOR THE FIXED NUMBER OF VARIABLES A, B, C BUT WHAT IF WE HAD A VARIABLE NUMBES OF INPUTS,\n",
        "  #WE SHOULD MAKE THIS CODE MORE GENRERAL SO WE CAN USE IT FOR ANY INPUT NOT JUST A,B,C"
      ],
      "metadata": {
        "id": "NxZQi0D504Qp"
      },
      "execution_count": 13,
      "outputs": []
    },
    {
      "cell_type": "code",
      "source": [
        "#========================================================================================================================"
      ],
      "metadata": {
        "id": "0XqIZJA06vIX"
      },
      "execution_count": null,
      "outputs": []
    },
    {
      "cell_type": "code",
      "source": [
        "def solution(a,b,c):\n",
        "  nums = [a,b,c]\n",
        "\n",
        "  head = tail = None \n",
        "\n",
        "  for n in nums:\n",
        "    new_node = ListNode(n)\n",
        "\n",
        "    if head is None:\n",
        "      #this takes care of the \"if the list was empty situation\"\n",
        "      #this would be the first and only node in the list so it is both the head and the tail\n",
        "      head = tail = new_node\n",
        "\n",
        "    else:\n",
        "      #this list is not empty situation\n",
        "      #this is not the first node\n",
        "      #we know that head and tail point to nodes\n",
        "      #wire in the new node after the tail\n",
        "      tail.next = new_node\n",
        "      tail = new_node\n",
        "\n",
        "\n",
        "  return head\n",
        "\n",
        "  #here we used pointer juggling to create code that will create a linked list from any sized input"
      ],
      "metadata": {
        "id": "tudxm2Yy4GLt"
      },
      "execution_count": null,
      "outputs": []
    },
    {
      "cell_type": "code",
      "source": [
        "#========================================================================================================================"
      ],
      "metadata": {
        "id": "WwIv6DEz3uBa"
      },
      "execution_count": null,
      "outputs": []
    },
    {
      "cell_type": "code",
      "source": [
        "class ListNode:\n",
        "  def __init__(self, value):\n",
        "    self.value = value\n",
        "    self.next = None\n",
        "\n",
        "a = ListNode(1)\n",
        "b = ListNode(2)\n",
        "c = ListNode(3)\n",
        "a.next = b\n",
        "b.next = c\n",
        "\n",
        "print(a.next.next.value)\n"
      ],
      "metadata": {
        "colab": {
          "base_uri": "https://localhost:8080/"
        },
        "id": "G9WlxE_i3Pfd",
        "outputId": "0d6ca20c-1cf2-49b3-f1bc-2f8d4ae365cc"
      },
      "execution_count": 17,
      "outputs": [
        {
          "output_type": "stream",
          "name": "stdout",
          "text": [
            "3\n"
          ]
        }
      ]
    },
    {
      "cell_type": "markdown",
      "source": [
        "Linked Lists GCA Problem:\n",
        "\n",
        "Given three values, return a new linked list containing those values. You have to wrap the values into ListNode() objects.\n",
        "\n",
        "new_node = ListNode(n)\n",
        "\n",
        "1) read 3x 2) understand and write down 3) make and write down a plan 4) translate plan to code 5) debug"
      ],
      "metadata": {
        "id": "6fW_xkLs8Zh8"
      }
    },
    {
      "cell_type": "code",
      "source": [
        "def solution(a,b,c):\n",
        "  x = ListNode(a)\n",
        "  y = ListNode(b)\n",
        "  z = ListNode(c)\n",
        "\n",
        "  x.next = y\n",
        "  y.next = z\n",
        "\n",
        "  def __str__():\n",
        "  return x\n",
        "\n"
      ],
      "metadata": {
        "id": "vGzEjIAz8aR5"
      },
      "execution_count": 18,
      "outputs": []
    },
    {
      "cell_type": "code",
      "source": [
        "solution(1,2,3)"
      ],
      "metadata": {
        "colab": {
          "base_uri": "https://localhost:8080/"
        },
        "id": "q3ANvxh48y_3",
        "outputId": "dfe8d817-b6a5-47c4-f449-412063d9ca05"
      },
      "execution_count": 19,
      "outputs": [
        {
          "output_type": "execute_result",
          "data": {
            "text/plain": [
              "<__main__.ListNode at 0x7f89644e93d0>"
            ]
          },
          "metadata": {},
          "execution_count": 19
        }
      ]
    },
    {
      "cell_type": "code",
      "source": [
        "#========================================================================================================================"
      ],
      "metadata": {
        "id": "f6t42x2a9bTL"
      },
      "execution_count": null,
      "outputs": []
    },
    {
      "cell_type": "markdown",
      "source": [
        "Given a. list return thelength of the list"
      ],
      "metadata": {
        "id": "GgLRzekL9SnF"
      }
    },
    {
      "cell_type": "code",
      "source": [
        "#HOW TO TRAVERSE A LINKED LIST\n",
        "\n",
        "def solution(head):\n",
        "  total = 0\n",
        "  current_node = head\n",
        "  while current_node is not None:\n",
        "    print(current_node.value) # so we can see what values displayed\n",
        "    total += 1\n",
        "    current_node - current_node.next\n",
        "  return total"
      ],
      "metadata": {
        "id": "1CLJwQkv9adX"
      },
      "execution_count": null,
      "outputs": []
    },
    {
      "cell_type": "code",
      "source": [
        "#========================================================================================================================"
      ],
      "metadata": {
        "id": "dNO9LIIU-sFR"
      },
      "execution_count": null,
      "outputs": []
    },
    {
      "cell_type": "markdown",
      "source": [
        "Insert a new value at the HEAD of a linked list"
      ],
      "metadata": {
        "id": "8zsEhYFq-s6t"
      }
    },
    {
      "cell_type": "code",
      "source": [
        "def solution(n, a):\n",
        "  #n is the nalue we want to insert and a = the head of the linked list\n",
        "  new_node = ListNode(n)\n",
        "  new_node.next = a\n",
        "  return new_node\n",
        "\n",
        "  #THIS IS A CONSTANT TIME FUNCTION UNLIKE A PYTHON LIST WHICH IS A 0(N) TYPE FUNCTION\n",
        "  #THIS IS MUCH MORE PERFORMATIVE"
      ],
      "metadata": {
        "id": "R4fTo-zV-v0Q"
      },
      "execution_count": null,
      "outputs": []
    },
    {
      "cell_type": "code",
      "source": [
        "#========================================================================================================================"
      ],
      "metadata": {
        "id": "uYTsg6Mx__KT"
      },
      "execution_count": null,
      "outputs": []
    },
    {
      "cell_type": "markdown",
      "source": [
        "Insert a new value at the END of a linked list"
      ],
      "metadata": {
        "id": "I0LcJ9xU__4x"
      }
    },
    {
      "cell_type": "code",
      "source": [
        "def solution(a, n):\n",
        "  #n is the value we want inserted and a = the tails of the linked list\n",
        "  new_node = ListNode(n)\n",
        "  if a is None:\n",
        "    return new_node\n",
        "  current_node = a\n",
        "  #the tail will be the only node pointing to none\n",
        "  while current_node.next is not None:\n",
        "    current_node = current_node.next\n",
        "    current_node.next = new_node\n",
        "    return  a\n",
        "\n",
        "    #THIS IS NOT A CONSTANT TIME OPERATTIONM BUT A 0(N) TYPE\n",
        "    #APPENDING TO AN ARRAY LIST IS FAST IT IS A CONSTANT TIME OPERATION\n",
        "    #BOTH ARRAYS AND LINKED LISTS HAVE THE ABILITY IN DIFFERENT SITUATIONS TO BE ALE TO PERFORM CONSTANT TIME OPERATIONS\n",
        "\n",
        "    #YOU MUST BE CAREFUL ABOUT WHICH DATA STRUCTURE/TOOL YOU USE\n"
      ],
      "metadata": {
        "id": "_3Wg485zANq7"
      },
      "execution_count": null,
      "outputs": []
    },
    {
      "cell_type": "code",
      "source": [
        "#========================================================================================================================"
      ],
      "metadata": {
        "id": "tasron9JGrlB"
      },
      "execution_count": null,
      "outputs": []
    },
    {
      "cell_type": "code",
      "source": [
        "'''                        Linked List          ArrayList\n",
        "insert at head.              o(1)                 o(n)\n",
        "delete at head               o(1)                 o(n)\n",
        "insert at tail(tail pntr)    0(1)                 0(1)\n",
        "delete at tail               o(n)                 0(1)\n",
        "index lookup                 0(n)                 0(1)\n",
        "\n",
        "'''\n",
        "\n",
        "\n",
        "#linked list class\n",
        "class ListNode:\n",
        "  def __init__(self):\n",
        "    self.value = value\n",
        "    self.next = None\n",
        "\n",
        "#linked list class with a head and a tail pointer\n",
        "class LinkedList(object):\n",
        "  def __init__(self):\n",
        "    self.head = None\n",
        "    self.tail = None\n",
        "  \n",
        "  #we can now add to the front in constant time\n",
        "  def add_front(self, value):\n",
        "    node = ListNode(value):\n",
        "    if self.head is None:\n",
        "      self.head = node\n",
        "      self.tail = node\n",
        "    else:\n",
        "      node.next = self.head\n",
        "      self.head = node\n",
        "\n",
        "  #we can now add to the back in constant time\n",
        "  def add_back(self, value):\n",
        "    node = ListNode(value)\n",
        "    if self.head is None:\n",
        "      self.add_front(value) #this is fine if list is empty\n",
        "    else:\n",
        "      self.tail.next = node\n",
        "      self.tail = node\n",
        "\n",
        "  #we can now delete from the front of the list\n",
        "\n",
        "  def delete_front(self):\n",
        "    val = self.head.value\n",
        "    self.head = self.head.next\n",
        "    return val\n",
        "\n",
        "  #print function\n",
        "  def print_list(self):\n",
        "    current_node = self.head \n",
        "    while current_node is not None:\n",
        "      print(str(current_node.value), end='')\n",
        "      if current_node.next is not None:\n",
        "        print(' -> ', end='')\n",
        "      current_node = current_node.next\n",
        "    print()\n",
        "\n",
        "\n",
        "\n",
        "  \n",
        "\n"
      ],
      "metadata": {
        "colab": {
          "base_uri": "https://localhost:8080/",
          "height": 133
        },
        "id": "pgVwjOuiGdyt",
        "outputId": "f9aaace4-f77d-4852-9381-94b11e88d618"
      },
      "execution_count": 20,
      "outputs": [
        {
          "output_type": "error",
          "ename": "SyntaxError",
          "evalue": "ignored",
          "traceback": [
            "\u001b[0;36m  File \u001b[0;32m\"<ipython-input-20-9188ceba8580>\"\u001b[0;36m, line \u001b[0;32m2\u001b[0m\n\u001b[0;31m    def __init\u001b[0m\n\u001b[0m              ^\u001b[0m\n\u001b[0;31mSyntaxError\u001b[0m\u001b[0;31m:\u001b[0m invalid syntax\n"
          ]
        }
      ]
    },
    {
      "cell_type": "code",
      "source": [
        "#========================================================================================================================"
      ],
      "metadata": {
        "id": "UmhyvsY1NPrj"
      },
      "execution_count": null,
      "outputs": []
    },
    {
      "cell_type": "code",
      "source": [
        "#STACKS\n",
        "\n",
        "\n",
        "#LIFO\n",
        "#last in first \n",
        "\n",
        "# to implement a stack we can use one of two data structures\n",
        "# linked lists or arrays\n",
        "\n",
        "#pushing or poping will hapen to the \"top\" of the stack -- which is the top? front or back?\n",
        "\n",
        "#we will asume the end of the list if the top of the stack\n",
        "class Stack:\n",
        "  def __init__(self):\n",
        "    self.data = []\n",
        "\n",
        "  def push (self, value):\n",
        "    self.data.append(value)\n",
        "\n",
        "  def pop(self):\n",
        "    return self.data.pop()\n",
        "\n",
        "s = Stack()\n",
        "s.push(1)\n",
        "s.push(2)\n",
        "s.push(3)\n",
        "print(s.data)\n",
        "s.pop()\n",
        "print(s.data)\n",
        "s.pop()\n",
        "print(s.data)"
      ],
      "metadata": {
        "colab": {
          "base_uri": "https://localhost:8080/"
        },
        "id": "zJ_0Dz5rGheB",
        "outputId": "28979ad1-f0c7-46f6-ee38-3b1587a76d4f"
      },
      "execution_count": 22,
      "outputs": [
        {
          "output_type": "stream",
          "name": "stdout",
          "text": [
            "[1, 2, 3]\n",
            "[1, 2]\n",
            "[1]\n"
          ]
        }
      ]
    },
    {
      "cell_type": "code",
      "source": [
        "#========================================================================================================================"
      ],
      "metadata": {
        "id": "aWGHIvU9QiJg"
      },
      "execution_count": null,
      "outputs": []
    },
    {
      "cell_type": "code",
      "source": [
        "#FIFO\n",
        "#QUEUES\n",
        "\n",
        "#lets assume the front of the list is the front of the queue - we will then use a linked list\n",
        "  \n",
        "\n",
        "class Queue:\n",
        "  def __init__(self):\n",
        "    self.data = LinkedList()\n",
        "\n",
        "  def enqueue(self, value):\n",
        "    self.data.add_back(value)\n",
        "\n",
        "\n",
        "  def dequeue(self):\n",
        "    return self.data.delete_front()\n",
        "    \n",
        "\n",
        "q = Queue()\n",
        "q.enqueue(1)\n",
        "q.enqueue(2)\n",
        "q.enqueue(3)\n",
        "q.data.print_list()\n",
        "q.dequeue()\n",
        "q.data.print_list()\n",
        "q.dequeue()\n",
        "q.data.print_list()\n",
        "\n",
        "\n",
        "\n",
        "\n",
        "\n"
      ],
      "metadata": {
        "colab": {
          "base_uri": "https://localhost:8080/",
          "height": 365
        },
        "id": "8zpjgVLZapMr",
        "outputId": "626b581e-e3b8-472f-b43b-6b56f29d92b2"
      },
      "execution_count": 27,
      "outputs": [
        {
          "output_type": "error",
          "ename": "AttributeError",
          "evalue": "ignored",
          "traceback": [
            "\u001b[0;31m---------------------------------------------------------------------------\u001b[0m",
            "\u001b[0;31mAttributeError\u001b[0m                            Traceback (most recent call last)",
            "\u001b[0;32m<ipython-input-27-e8f6c6c5a165>\u001b[0m in \u001b[0;36m<module>\u001b[0;34m\u001b[0m\n\u001b[1;32m     18\u001b[0m \u001b[0;34m\u001b[0m\u001b[0m\n\u001b[1;32m     19\u001b[0m \u001b[0mq\u001b[0m \u001b[0;34m=\u001b[0m \u001b[0mQueue\u001b[0m\u001b[0;34m(\u001b[0m\u001b[0;34m)\u001b[0m\u001b[0;34m\u001b[0m\u001b[0;34m\u001b[0m\u001b[0m\n\u001b[0;32m---> 20\u001b[0;31m \u001b[0mq\u001b[0m\u001b[0;34m.\u001b[0m\u001b[0menqueue\u001b[0m\u001b[0;34m(\u001b[0m\u001b[0;36m1\u001b[0m\u001b[0;34m)\u001b[0m\u001b[0;34m\u001b[0m\u001b[0;34m\u001b[0m\u001b[0m\n\u001b[0m\u001b[1;32m     21\u001b[0m \u001b[0mq\u001b[0m\u001b[0;34m.\u001b[0m\u001b[0menqueue\u001b[0m\u001b[0;34m(\u001b[0m\u001b[0;36m2\u001b[0m\u001b[0;34m)\u001b[0m\u001b[0;34m\u001b[0m\u001b[0;34m\u001b[0m\u001b[0m\n\u001b[1;32m     22\u001b[0m \u001b[0mq\u001b[0m\u001b[0;34m.\u001b[0m\u001b[0menqueue\u001b[0m\u001b[0;34m(\u001b[0m\u001b[0;36m3\u001b[0m\u001b[0;34m)\u001b[0m\u001b[0;34m\u001b[0m\u001b[0;34m\u001b[0m\u001b[0m\n",
            "\u001b[0;32m<ipython-input-27-e8f6c6c5a165>\u001b[0m in \u001b[0;36menqueue\u001b[0;34m(self, value)\u001b[0m\n\u001b[1;32m     10\u001b[0m \u001b[0;34m\u001b[0m\u001b[0m\n\u001b[1;32m     11\u001b[0m   \u001b[0;32mdef\u001b[0m \u001b[0menqueue\u001b[0m\u001b[0;34m(\u001b[0m\u001b[0mself\u001b[0m\u001b[0;34m,\u001b[0m \u001b[0mvalue\u001b[0m\u001b[0;34m)\u001b[0m\u001b[0;34m:\u001b[0m\u001b[0;34m\u001b[0m\u001b[0;34m\u001b[0m\u001b[0m\n\u001b[0;32m---> 12\u001b[0;31m     \u001b[0mself\u001b[0m\u001b[0;34m.\u001b[0m\u001b[0mdata\u001b[0m\u001b[0;34m.\u001b[0m\u001b[0madd_back\u001b[0m\u001b[0;34m(\u001b[0m\u001b[0mvalue\u001b[0m\u001b[0;34m)\u001b[0m\u001b[0;34m\u001b[0m\u001b[0;34m\u001b[0m\u001b[0m\n\u001b[0m\u001b[1;32m     13\u001b[0m \u001b[0;34m\u001b[0m\u001b[0m\n\u001b[1;32m     14\u001b[0m \u001b[0;34m\u001b[0m\u001b[0m\n",
            "\u001b[0;31mAttributeError\u001b[0m: 'LinkedList' object has no attribute 'add_back'"
          ]
        }
      ]
    },
    {
      "cell_type": "code",
      "source": [],
      "metadata": {
        "id": "8Lrxkalrbstz"
      },
      "execution_count": null,
      "outputs": []
    }
  ]
}